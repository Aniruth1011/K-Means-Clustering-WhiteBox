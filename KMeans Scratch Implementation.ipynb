{
 "cells": [
  {
   "cell_type": "code",
   "execution_count": 1,
   "id": "0ae3d95d",
   "metadata": {},
   "outputs": [],
   "source": [
    "import pandas as pd\n",
    "import numpy as np\n",
    "import random \n",
    "import math\n",
    "import matplotlib.pyplot as plt\n",
    "from collections import Counter\n",
    "from sklearn.datasets import make_blobs"
   ]
  },
  {
   "cell_type": "code",
   "execution_count": 2,
   "id": "34d1dbf3",
   "metadata": {},
   "outputs": [],
   "source": [
    "X, Y = make_blobs(n_samples = 1000, centers = 3, cluster_std = 0.5, n_features = 2)"
   ]
  },
  {
   "cell_type": "code",
   "execution_count": 3,
   "id": "b15eb8cc",
   "metadata": {},
   "outputs": [
    {
     "data": {
      "text/plain": [
       "array([[-5.54245819,  4.52773266],\n",
       "       [-5.54145338,  6.42878969],\n",
       "       [ 6.49387418, -5.48247641],\n",
       "       ...,\n",
       "       [-5.23007708, -6.45947853],\n",
       "       [-6.19675079, -6.83139775],\n",
       "       [-6.04092425, -7.23771476]])"
      ]
     },
     "execution_count": 3,
     "metadata": {},
     "output_type": "execute_result"
    }
   ],
   "source": [
    "X"
   ]
  },
  {
   "cell_type": "code",
   "execution_count": 4,
   "id": "ba92a628",
   "metadata": {},
   "outputs": [],
   "source": [
    "x = [i[0] for i in X]\n",
    "y = [i[1] for i in X]"
   ]
  },
  {
   "cell_type": "code",
   "execution_count": 5,
   "id": "5683fb18",
   "metadata": {},
   "outputs": [
    {
     "data": {
      "text/plain": [
       "(1000, 1000)"
      ]
     },
     "execution_count": 5,
     "metadata": {},
     "output_type": "execute_result"
    }
   ],
   "source": [
    "len(y) , len(x)"
   ]
  },
  {
   "cell_type": "code",
   "execution_count": 6,
   "id": "17db968b",
   "metadata": {},
   "outputs": [],
   "source": [
    "points = [(x[i] , y[i]) for i in range(1000)]"
   ]
  },
  {
   "cell_type": "code",
   "execution_count": 7,
   "id": "a4d635e0",
   "metadata": {},
   "outputs": [
    {
     "data": {
      "text/plain": [
       "<matplotlib.collections.PathCollection at 0x1cea67611f0>"
      ]
     },
     "execution_count": 7,
     "metadata": {},
     "output_type": "execute_result"
    },
    {
     "data": {
      "image/png": "[encoded data removed]",
      "text/plain": [
       "<Figure size 432x288 with 1 Axes>"
      ]
     },
     "metadata": {
      "needs_background": "light"
     },
     "output_type": "display_data"
    }
   ],
   "source": [
    "plt.scatter(x , y)"
   ]
  },
  {
   "cell_type": "markdown",
   "id": "8a5695bf",
   "metadata": {},
   "source": [
    "Some Centroids lose all the samples while iterating, and their coordinates are set to NaN. They effectively \"die\" afterward and can be safely excluded."
   ]
  },
  {
   "cell_type": "code",
   "execution_count": 8,
   "id": "59f8e820",
   "metadata": {},
   "outputs": [],
   "source": [
    "def distance(x_c , y_c , x_p , y_p ):\n",
    "    return (x_c - x_p)**2 + (y_c - y_p)**2"
   ]
  },
  {
   "cell_type": "code",
   "execution_count": 9,
   "id": "2070deb2",
   "metadata": {},
   "outputs": [],
   "source": [
    "def kmeans(n_clusters , points  ,  n_epochs = 500 , exhaust = False , display = False):\n",
    "    cluster_x = [[] for i in range(n_clusters)]\n",
    "    cluster_y = [[] for i in range(n_clusters)]\n",
    "    meta_class = []\n",
    "    if exhaust == False:\n",
    "        for epoch in range(1 , n_epochs+1):\n",
    "            if (display == True):\n",
    "                print(\"Epoch : \" , epoch )\n",
    "                print(Counter(meta_class))\n",
    "            if (epoch == 1):\n",
    "                #First Epoch\n",
    "                centroids_x = np.array([random.random() for i in range(n_clusters)])\n",
    "                centroids_y = np.array([random.random() for i in range(n_clusters)])\n",
    "            else:\n",
    "                #From Second Epoch onwards , the new centroid is the mean of meta class classification\n",
    "                centroids_x = [np.mean(clusters) for clusters in cluster_x]\n",
    "                centroids_y = [np.mean(clusters) for clusters in cluster_y]\n",
    "                meta_class = []\n",
    "            for point in points:\n",
    "                x_c , y_c = point[0] , point[1]\n",
    "                #print(x_c , y_c)\n",
    "                distance_from_centroid = []\n",
    "                for point_index in range(n_clusters):\n",
    "                    distance_from_centroid.append(distance(x_c , y_c , centroids_x[point_index] , centroids_y[point_index]))\n",
    "                meta_class.append(distance_from_centroid.index(min(distance_from_centroid)))\n",
    "            for i in range(len(points)):\n",
    "                class_ = meta_class[i]\n",
    "                cluster_x[class_].append(points[i][0])\n",
    "                cluster_y[class_].append(points[i][1])\n",
    "        centroids = [[centroids_x[i] , centroids_y[i]] for i in range(n_clusters)]\n",
    "        return (meta_class , centroids)\n",
    "            #print(centroids_x)\n",
    "            #print(centroids_y)"
   ]
  },
  {
   "cell_type": "code",
   "execution_count": 10,
   "id": "e11a10d1",
   "metadata": {},
   "outputs": [],
   "source": [
    "def seperate_classes(classes_ , n_clusters):\n",
    "    seperated = [[] for i in range(n_clusters)]\n",
    "    index = 0\n",
    "    for i in classes_:\n",
    "        seperated[i].append(index)\n",
    "        index+=1\n",
    "    return seperated"
   ]
  },
  {
   "cell_type": "code",
   "execution_count": 12,
   "id": "9c60eda0",
   "metadata": {},
   "outputs": [],
   "source": [
    "def wcss(n_clusters , seperated , centroids):\n",
    "    wcss = 0\n",
    "    for i in range(n_clusters):\n",
    "        xc = centroids[i][0]\n",
    "        yc = centroids[i][1]\n",
    "        point_ind = seperated[i]\n",
    "        for j in point_ind:\n",
    "            xp = points[j][0]\n",
    "            yp = points[j][1]\n",
    "            wcss+=distance(xc , yc , xp , yp)\n",
    "    return wcss"
   ]
  },
  {
   "cell_type": "code",
   "execution_count": 13,
   "id": "e1a3bac3",
   "metadata": {},
   "outputs": [],
   "source": [
    "def optimal_clusters(max_clusters = 10):\n",
    "    WCSS = []\n",
    "    for i in range(2 , max_clusters+1):\n",
    "        classes_ , centroids = kmeans(i , points )\n",
    "        wc = wcss(i , seperate_classes(classes_ , i) , centroids)\n",
    "        WCSS.append(wc)\n",
    "    return WCSS"
   ]
  },
  {
   "cell_type": "code",
   "execution_count": 14,
   "id": "231b02c7",
   "metadata": {},
   "outputs": [
    {
     "name": "stderr",
     "output_type": "stream",
     "text": [
      "C:\\Users\\Aniruth\\anaconda3\\lib\\site-packages\\numpy\\core\\fromnumeric.py:3440: RuntimeWarning: Mean of empty slice.\n",
      "  return _methods._mean(a, axis=axis, dtype=dtype,\n",
      "C:\\Users\\Aniruth\\anaconda3\\lib\\site-packages\\numpy\\core\\_methods.py:189: RuntimeWarning: invalid value encountered in double_scalars\n",
      "  ret = ret.dtype.type(ret / rcount)\n"
     ]
    }
   ],
   "source": [
    "wcss_ = optimal_clusters()"
   ]
  },
  {
   "cell_type": "code",
   "execution_count": 15,
   "id": "3700a7db",
   "metadata": {},
   "outputs": [
    {
     "data": {
      "text/plain": [
       "[26817.27819042806,\n",
       " 501.81454062671287,\n",
       " 501.8145406267124,\n",
       " 501.8145406267128,\n",
       " 501.8145406267124,\n",
       " 501.81454062671247,\n",
       " 501.81454062671276,\n",
       " 501.81454062671287,\n",
       " 501.8145406267121]"
      ]
     },
     "execution_count": 15,
     "metadata": {},
     "output_type": "execute_result"
    }
   ],
   "source": [
    "wcss_"
   ]
  },
  {
   "cell_type": "code",
   "execution_count": 17,
   "id": "917c6d0f",
   "metadata": {},
   "outputs": [
    {
     "data": {
      "text/plain": [
       "[<matplotlib.lines.Line2D at 0x1ceaaff26a0>]"
      ]
     },
     "execution_count": 17,
     "metadata": {},
     "output_type": "execute_result"
    },
    {
     "data": {
      "image/png": "[encoded data removed]",
      "text/plain": [
       "<Figure size 432x288 with 1 Axes>"
      ]
     },
     "metadata": {
      "needs_background": "light"
     },
     "output_type": "display_data"
    }
   ],
   "source": [
    "plt.plot(range(2,11),wcss_)"
   ]
  },
  {
   "cell_type": "code",
   "execution_count": null,
   "id": "cb5de3e3",
   "metadata": {},
   "outputs": [],
   "source": [
    "#From the above Elbow graph , we see that best number of clusters can be 3"
   ]
  },
  {
   "cell_type": "code",
   "execution_count": 18,
   "id": "37693bb0",
   "metadata": {},
   "outputs": [],
   "source": [
    "optimal_cluster = 3"
   ]
  },
  {
   "cell_type": "code",
   "execution_count": 23,
   "id": "9aafae92",
   "metadata": {},
   "outputs": [],
   "source": [
    "class_ , centroids = kmeans(optimal_cluster , points)"
   ]
  },
  {
   "cell_type": "code",
   "execution_count": 24,
   "id": "09d15e94",
   "metadata": {},
   "outputs": [],
   "source": [
    "c1_x = []\n",
    "c1_y = []\n",
    "c2_x = []\n",
    "c2_y = []\n",
    "c3_x = []\n",
    "c3_y = []\n",
    "ind = 0\n",
    "for i in class_:\n",
    "    if i == 0:\n",
    "        c1_x.append(points[ind][0])\n",
    "        c1_y.append(points[ind][1])\n",
    "    elif i ==1:\n",
    "        c2_x.append(points[ind][0])\n",
    "        c2_y.append(points[ind][1])\n",
    "    elif i==2:\n",
    "        c3_x.append(points[ind][0])\n",
    "        c3_y.append(points[ind][1])\n",
    "    ind+=1"
   ]
  },
  {
   "cell_type": "code",
   "execution_count": 32,
   "id": "53a833c5",
   "metadata": {},
   "outputs": [
    {
     "data": {
      "text/plain": [
       "[<matplotlib.lines.Line2D at 0x1ceac4551f0>]"
      ]
     },
     "execution_count": 32,
     "metadata": {},
     "output_type": "execute_result"
    },
    {
     "data": {
      "image/png": "[encoded data removed]",
      "text/plain": [
       "<Figure size 432x288 with 1 Axes>"
      ]
     },
     "metadata": {
      "needs_background": "light"
     },
     "output_type": "display_data"
    }
   ],
   "source": [
    "plt.scatter(c1_x , c1_y , c = 'red')\n",
    "plt.scatter(c2_x , c2_y , c = 'blue')\n",
    "plt.scatter(c3_x , c3_y , c = 'green')\n",
    "plt.plot(centroids[0][0], centroids[0][1], marker=\"o\", markersize=5, markeredgecolor=\"black\", markerfacecolor=\"black\")\n",
    "plt.plot(centroids[1][0], centroids[1][1], marker=\"o\", markersize=5, markeredgecolor=\"black\", markerfacecolor=\"black\")\n",
    "plt.plot(centroids[2][0], centroids[2][1], marker=\"o\", markersize=5, markeredgecolor=\"black\", markerfacecolor=\"black\")"
   ]
  },
  {
   "cell_type": "code",
   "execution_count": 34,
   "id": "75c3ce11",
   "metadata": {},
   "outputs": [],
   "source": [
    "#Hence , we can see that our clustering algorithm works perfectly"
   ]
  },
  {
   "cell_type": "code",
   "execution_count": null,
   "id": "b6357bf1",
   "metadata": {},
   "outputs": [],
   "source": []
  }
 ],
 "metadata": {
  "kernelspec": {
   "display_name": "Python 3 (ipykernel)",
   "language": "python",
   "name": "python3"
  },
  "language_info": {
   "codemirror_mode": {
    "name": "ipython",
    "version": 3
   },
   "file_extension": ".py",
   "mimetype": "text/x-python",
   "name": "python",
   "nbconvert_exporter": "python",
   "pygments_lexer": "ipython3",
   "version": "3.9.12"
  }
 },
 "nbformat": 4,
 "nbformat_minor": 5
}
